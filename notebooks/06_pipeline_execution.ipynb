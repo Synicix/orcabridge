{
 "cells": [
  {
   "cell_type": "markdown",
   "id": "9636b400",
   "metadata": {},
   "source": [
    "# Overview\n",
    "This notebook is meant to show the algorithm of how a pipeline is executed"
   ]
  },
  {
   "cell_type": "markdown",
   "id": "599355b9",
   "metadata": {},
   "source": [
    "# Core Concepts\n",
    "\n",
    "## External Component Required:\n",
    "\n",
    "- ```DAG graph``` In this repo, this can be obtained from the tracker class that contains a dict of invocations. Each invocation is like a node, while it streams attribute is the edges to the parents. From this we can build our DAG\n",
    "\n",
    "## General Overview of Algorithm:\n",
    "\n",
    "The algorithm for execution of the DAG will be a subscriber model, where the children nodes subscribe to its parent nodes, which allow them to be notify when the parent node has output something.\n",
    "\n",
    "Upon notification, the node will check if it can operate on what is the buffer queue which will depends on how many parents the node have, resulting in two cases:\n",
    "\n",
    "1) Node has exactly 1 parent node, therefore upon receiving a notification that a ```packet``` is ready from the parent, the node can start processing (In the case of the OrcaPod, this will result in a pod job submission to the orchestrator)\n",
    "\n",
    "2) The node has **n** number of parents, therefore it will operate on each unique combination of the parents output. If this behavior which to be override, the user should place a mapper node to create a subset of all unique combinations to operate on before feeding it to this node\n",
    "\n",
    "## Requirement Async for each node\n",
    "This will be done via trait in rust, but in python it will be implemented as a class\n",
    "\n",
    "## Required Attributes for each Node:\n",
    "- ```mutex<subscribers>: Array<Node>```: (In rust it will be a trait that has the function of wake_up)\n",
    "- ```mutex<output_buffer: Array<values>>```: Storage for already computed results (In rust, for pod nodes, this will a bunch of pod_results hashes, for mappers and data_sources, this is will be direct values)\n",
    "\n",
    "## Required Functions for each Node:\n",
    "- ```add_subscriber(self, node_to_notify: Node)```: Will subscribe child node or any interested party to notification services for when a packet is produce from this node\n",
    "- ```notify(self)```: Iterator through each subscriber and notify them (This should be only be define in the trait or super class)\n",
    "- ```wake_up(self, new_packet_idx: array<usize>)```: This is a method to be called by the parents of this node, passing along a indices of a new packets that is stored in the output buffer of the parent. (In rust this will be store as a pod result that should be looked up by the following pod)\n",
    "- ```submit_job(self)```: Function to send pod_jobs, which would also subscribe to the orchestrator to get notified when job is completed.\n",
    "- ```wake_up_to_job_completion(self, pod_result: PodResult)```: Function for the orchestrator to call back on when it is done executing the pod_job (Python version will just return the output, also it will be responsible for storing the result)\n",
    "- ```get_output(idx):``` Function to obtain the output packet of the node given an an index. In reality this will either return a packet obtain from a pod result, or a in memory from a mapping operation or data source (In rust, if it is a not a pod that produce pod_result, this output will be compute on the fly in memory as it will be a mapper node or data source)\n"
   ]
  },
  {
   "cell_type": "markdown",
   "id": "6e3b4fde",
   "metadata": {},
   "source": [
    "# Pipeline Orchestrator Design\n",
    "The current orcapod orchestrator only handles pod_jobs at the moment, as such to support pipeline, we would need an additional layer on top.\n",
    "\n",
    "This layer will job will be to accept pipeline_jobs from users and execute them in the background, where it acts as a always on server, since that is the only way to be able to schedule the children node's jobs upon completion of the required parent nodes.\n",
    "\n",
    "## Additional Attributes Required for Pipeline Orchestrator\n",
    "```Mutex<pipeline_runs: Vec<PipelineRun>>```: Active memory buffer that store all pipeline runs\n",
    "```file_path```: File path to the binary file that is used to checkpoint the orchestrator that allow to resume in case the host dies\n",
    "```orchestrator```: Pod Job orchestrator to use (For now we are just going to stick to one target orchestrator per pipeline job)\n",
    "\n",
    "\n",
    "## Functions Required:\n",
    "```start_blocking(pipeline_job: PipelineJob) -> PipelineRun```\n",
    "```delete_blocking(pipeline_run: PipelineRun)```\n",
    "```list_pipeline_runs()```\n",
    "```get_result_blocking(pipeline_run: PipelineRun) -> PipelineResult```\n",
    "```get_info(pipeline_run) -> PipelineRunInfo```\n",
    "etc.. (Direct copy of orcapod/orchestrator for pod_job)\n"
   ]
  },
  {
   "cell_type": "markdown",
   "id": "0aa94de0",
   "metadata": {},
   "source": [
    "# Storage of Pipeline\n",
    "Keeping with yaml format, a simple, and human readable solution is to simply save the edges into a hashmap and serialize it to yam to store it\n",
    "For example: \n",
    "\n",
    "Given a pipeline definition of\n",
    "A -> B -> C\n",
    "\n",
    "The Yaml format would be:\n",
    "```yaml\n",
    "    dag:\n",
    "      - pod_hash: asd7f89as7df897asasdf (A)\n",
    "        edges:\n",
    "          - asdjfklasjdfklajsflksd (B)\n",
    "      - pod_hash: asdfjkalsdjfklajsfdas (B)\n",
    "        edges:\n",
    "          - asjdkfljaskldfjklewklfj (C)\n",
    "```\n",
    "\n",
    "From this reconstruction of the graph is pretty straight forward\n",
    "\n",
    "## Dealing with Mapper class\n",
    "For the mapper mention in the orcabridge, we would need to add a new model to the orcapod to store the wanted behavior. For a simple mapper, the behavior can be represented as a ```hash_map<String, String>``` which can be store directly, but for more complicated behavior, we would need a separate mapper class such as a special join in python or something of that matter.\n",
    "\n",
    "## Dealing with Source class\n",
    "By default, the source class can be derived from the root pods required inputs, and the mapping to it will be defined via the pipeline_job. Therefore we don't need and explicit struct in rust to capture this\n",
    "\n",
    "## More detail proposal of rust implementation (Rough Draft)\n",
    "With further refinement and thinking about what we have, a lot of the functions required for pipeline can built using existing structs that is already in orcapod, reducing the trait size significantly.\n",
    "\n",
    "The idea for the pipeline execution is that each node has it own thread that subscribe to its parent output stream, waiting for packet to come in. Starting the pipeline will spin up all the required threads\n",
    "\n",
    "```rust\n",
    "\n",
    "// From pod job\n",
    "pub struct PodJob {\n",
    "    pub input_stream: HashMap<String, Input>, // NOTE: <- This is the packet equivalent at the moment, but we will need to upgrade it to support tag\n",
    "}\n",
    "\n",
    "pub enum Input {\n",
    "    /// A single BLOB.\n",
    "    Unary(Blob),\n",
    "    /// A series of BLOBs.\n",
    "    Collection(Vec<Blob>),\n",
    "}\n",
    "\n",
    "/// BLOB with metadata.\n",
    "#[derive(uniffi::Record, Serialize, Deserialize, Debug, Clone, PartialEq, Eq, Default)]\n",
    "pub struct Blob {\n",
    "    /// BLOB available options.\n",
    "    pub kind: BlobKind,\n",
    "    /// BLOB location.\n",
    "    pub location: OrcaPath,\n",
    "    /// BLOB contents checksum.\n",
    "    pub checksum: String,\n",
    "}\n",
    "\n",
    "/// File or directory options for BLOBs.\n",
    "#[derive(uniffi::Enum, Serialize, Deserialize, Debug, Clone, PartialEq, Eq, Default)]\n",
    "pub enum BlobKind {\n",
    "    /// A single file.\n",
    "    #[default]\n",
    "    File,\n",
    "    /// A single directory.\n",
    "    Directory,\n",
    "}\n",
    "\n",
    "// Propose definition\n",
    "struct Packet {\n",
    "    path_set: HashMap<String, Input> // Still not sure about the path_set name but rolling with it for now\n",
    "    tag: Option<Tag> // Tag will probably be store as tag_hash in the actual storage\n",
    "}\n",
    "\n",
    "struct NodeType {\n",
    "  Pod,\n",
    "  Mapper,\n",
    "}\n",
    "\n",
    "trait Node {\n",
    "  // Parent Node functions\n",
    "  fn notify_children(&self):\n",
    "  fn get_packet_output(&self, idx) -> Packet\n",
    "\n",
    "  // Children Node functions\n",
    "  fn wake_up(&self, result_buffer_idx)\n",
    "}\n",
    "\n",
    "// Pod node\n",
    "\n",
    "struct PodNode {\n",
    "  pod: Pod\n",
    "  children: Vec<Node>\n",
    "  outputs: Vec<PodResults> // Memoization impl\n",
    "  orchestrator: Arc<Mutex<Orchestrator>>\n",
    "} \n",
    "\n",
    "impl Node for PodNode {...}\n",
    "\n",
    "impl PodNode {\n",
    "  fn wake_up_to_job_competition(&self, PodResult) // Call back for orchestrator\n",
    "\n",
    "  fn submit_job(&self) -> PodRun // Internal function\n",
    "}\n",
    "\n",
    "\n",
    "// Mapper\n",
    "struct Mapper {\n",
    "  children: Vec<Node>\n",
    "  mapping: HashMap<String, String>\n",
    "  input_buffer: Vec<Packet> // Memoization (Mapper store inputs only, since output is computed on the fly)\n",
    "}\n",
    "\n",
    "impl Node for Mapper {...}\n",
    "\n",
    "#[derive(Serialize)] // Leaving out custom implementation of serializing to yaml and from yaml\n",
    "struct Pipeline {\n",
    "  root_nodes: Vec<Nodes> // From the root node, we can go through every node and start the apporiate threads\n",
    "  hash: String\n",
    "  orchestrator: Arc<Mutex<Orchestrator>> // Passed to every PodNode\n",
    "}\n",
    "\n",
    "impl Pipeline {\n",
    "  fn execute(&self); // This will spin up all the threads\n",
    "}\n",
    "```\n"
   ]
  },
  {
   "cell_type": "markdown",
   "id": "eed153b5",
   "metadata": {},
   "source": [
    "## Type of Pod Job Orchestrators\n",
    "- Local Docker Orchestrator: Mainly built to use only docker to run locally (Currently built into orcapod)\n",
    "- Cluster Docker Orchestrator: Based off the local docker orchestrator, except there is a master node with n workers where communication is done via websocket. Jobs are submitted to the master node. (Master node is a singular point of failure, possible to to do multi master if we have distributed cluster that uses the broadcast model.)\n",
    "- K8 Docker Orchestrator: "
   ]
  },
  {
   "cell_type": "markdown",
   "id": "a99f1793",
   "metadata": {},
   "source": [
    "# Ignore everything below (Messing around with the preexisting python implmentation)"
   ]
  },
  {
   "cell_type": "code",
   "execution_count": null,
   "id": "9f24e9ee",
   "metadata": {},
   "outputs": [],
   "source": [
    "# Create an example pipeline\n",
    "\n",
    "import tempfile\n",
    "from pathlib import Path\n",
    "import json\n",
    "import yaml\n",
    "from orcabridge.pod import function_pod\n",
    "from orcabridge.store import DirDataStore\n",
    "from orcabridge.source import GlobSource\n",
    "\n",
    "# use default data store location of `./pod_data`\n",
    "data_store = DirDataStore()\n",
    "\n",
    "\n",
    "# function to count lines in a file and save it as JSON\n",
    "@function_pod([\"stats\"], data_store=data_store)\n",
    "def count_lines(file: str):\n",
    "    with open(file, \"r\") as f:\n",
    "        n = len(f.readlines())\n",
    "    tmp_dir = tempfile.mkdtemp()\n",
    "    data_file = Path(tmp_dir) / \"data.json\"\n",
    "    data = dict(lines=n)\n",
    "    with open(data_file, \"w\") as f:\n",
    "        json.dump(data, f)\n",
    "    return data_file\n",
    "\n",
    "\n",
    "@function_pod([\"yaml_file\"], data_store=data_store)\n",
    "def json_to_yaml(json_file: str):\n",
    "    with open(json_file, \"r\") as f:\n",
    "        data = json.load(f)\n",
    "    tmp_dir = tempfile.mkdtemp()\n",
    "    yaml_path = Path(tmp_dir) / Path(json_file).with_suffix(\".yaml\").name\n",
    "    with open(yaml_path, \"w\") as f:\n",
    "        yaml.dump(data, f)\n",
    "    return yaml_path\n",
    "\n",
    "\n",
    "# function to extract keys from a JSON file and save them as a list in another JSON file\n",
    "@function_pod([\"key_info\"], data_store=data_store)\n",
    "def extract_keys(json_file: str):\n",
    "    with open(json_file, \"r\") as f:\n",
    "        data = json.load(f)\n",
    "    keys = list(data.keys())\n",
    "    tmp_dir = tempfile.mkdtemp()\n",
    "    keys_file = Path(tmp_dir) / \"keys.json\"\n",
    "    with open(keys_file, \"w\") as f:\n",
    "        json.dump(keys, f)\n",
    "    return keys_file\n",
    "\n",
    "\n",
    "data_source = GlobSource(\"data_file\", \"../examples/dataset1\", \"*.txt\")\n",
    "\n",
    "\n",
    "line_info_json = count_lines(data_source >> {\"data_file\": \"file\"})\n",
    "line_info_yaml = json_to_yaml(line_info_json >> {\"stats\": \"json_file\"})\n",
    "line_info_keys = extract_keys(line_info_json >> {\"stats\": \"json_file\"})"
   ]
  },
  {
   "cell_type": "code",
   "execution_count": 40,
   "id": "1d04806c",
   "metadata": {},
   "outputs": [],
   "source": [
    "from orcabridge import DEFAULT_TRACKER"
   ]
  },
  {
   "cell_type": "code",
   "execution_count": 41,
   "id": "6e138053",
   "metadata": {},
   "outputs": [
    {
     "name": "stderr",
     "output_type": "stream",
     "text": [
      "/workspaces/orcabridge/src/orcabridge/tracker.py:92: UserWarning: This figure includes Axes that are not compatible with tight_layout, so results might be incorrect.\n",
      "  plt.tight_layout()\n"
     ]
    },
    {
     "data": {
      "image/png": "[encoded data removed]",
      "text/plain": [
       "<Figure size 640x480 with 1 Axes>"
      ]
     },
     "metadata": {},
     "output_type": "display_data"
    }
   ],
   "source": [
    "DEFAULT_TRACKER.draw_graph()"
   ]
  },
  {
   "cell_type": "code",
   "execution_count": 42,
   "id": "d1ec06f7",
   "metadata": {},
   "outputs": [
    {
     "name": "stdout",
     "output_type": "stream",
     "text": [
      "Node: Invocation(GlobSource(../examples/dataset1/*.txt) ⇒ data_file, ID:7805336534710128524), In-Degree: 1\n"
     ]
    }
   ],
   "source": [
    "for node, in_degree in DEFAULT_TRACKER.generate_graph().degree:\n",
    "    print(f\"Node: {node}, In-Degree: {in_degree}\")\n",
    "    break"
   ]
  },
  {
   "cell_type": "code",
   "execution_count": 43,
   "id": "e662ff90",
   "metadata": {},
   "outputs": [
    {
     "name": "stdout",
     "output_type": "stream",
     "text": [
      "Node: Invocation(GlobSource(../examples/dataset1/*.txt) ⇒ data_file, ID:7805336534710128524)\n"
     ]
    }
   ],
   "source": [
    "for node in DEFAULT_TRACKER.generate_graph().nodes:\n",
    "    print(f\"Node: {node}\")\n",
    "    break"
   ]
  },
  {
   "cell_type": "code",
   "execution_count": 44,
   "id": "30e48178",
   "metadata": {},
   "outputs": [
    {
     "name": "stdout",
     "output_type": "stream",
     "text": [
      "Edge: (Invocation(GlobSource(../examples/dataset1/*.txt) ⇒ data_file, ID:7805336534710128524), Invocation(packets(data_file ⇒ file), ID:7295214722844861365))\n",
      "Edge: (Invocation(packets(data_file ⇒ file), ID:7295214722844861365), Invocation(FunctionPod:count_lines(file) ⇒ ['stats'], ID:319846937452480905))\n",
      "Edge: (Invocation(FunctionPod:count_lines(file) ⇒ ['stats'], ID:319846937452480905), Invocation(packets(stats ⇒ json_file), ID:1226137344290369747))\n",
      "Edge: (Invocation(packets(stats ⇒ json_file), ID:1226137344290369747), Invocation(FunctionPod:json_to_yaml(json_file) ⇒ ['yaml_file'], ID:414233198714605481))\n",
      "Edge: (Invocation(packets(stats ⇒ json_file), ID:1226137344290369747), Invocation(FunctionPod:extract_keys(json_file) ⇒ ['key_info'], ID:2006476212990005541))\n"
     ]
    }
   ],
   "source": [
    "for node in DEFAULT_TRACKER.generate_graph().edges:\n",
    "    print(f\"Edge: {node}\")"
   ]
  },
  {
   "cell_type": "code",
   "execution_count": 45,
   "id": "2fe38e8b",
   "metadata": {},
   "outputs": [
    {
     "data": {
      "text/plain": [
       "(Invocation(packets(stats ⇒ json_file), ID:1226137344290369747),\n",
       " Invocation(FunctionPod:extract_keys(json_file) ⇒ ['key_info'], ID:2006476212990005541))"
      ]
     },
     "execution_count": 45,
     "metadata": {},
     "output_type": "execute_result"
    }
   ],
   "source": [
    "node"
   ]
  },
  {
   "cell_type": "code",
   "execution_count": 46,
   "id": "e12c1240",
   "metadata": {},
   "outputs": [
    {
     "name": "stdout",
     "output_type": "stream",
     "text": [
      "Root nodes: [1]\n"
     ]
    }
   ],
   "source": [
    "import networkx as nx\n",
    "\n",
    "# Create a directed graph\n",
    "G = nx.DiGraph()\n",
    "G.add_edges_from([(1, 2), (1, 3), (3, 4)])\n",
    "\n",
    "# Find root nodes (nodes with in-degree = 0)\n",
    "root_nodes = [node for node, in_degree in G.in_degree() if in_degree == 0]\n",
    "print(\"Root nodes:\", root_nodes)"
   ]
  },
  {
   "cell_type": "code",
   "execution_count": 47,
   "id": "980192c2",
   "metadata": {},
   "outputs": [
    {
     "data": {
      "text/plain": [
       "[(1, 0), (2, 1), (3, 1), (4, 1)]"
      ]
     },
     "execution_count": 47,
     "metadata": {},
     "output_type": "execute_result"
    }
   ],
   "source": [
    "[(node, in_degree) for node, in_degree in G.in_degree()]"
   ]
  },
  {
   "cell_type": "code",
   "execution_count": null,
   "id": "fcba6c6f",
   "metadata": {},
   "outputs": [],
   "source": []
  }
 ],
 "metadata": {
  "kernelspec": {
   "display_name": "base",
   "language": "python",
   "name": "python3"
  },
  "language_info": {
   "codemirror_mode": {
    "name": "ipython",
    "version": 3
   },
   "file_extension": ".py",
   "mimetype": "text/x-python",
   "name": "python",
   "nbconvert_exporter": "python",
   "pygments_lexer": "ipython3",
   "version": "3.9.22"
  }
 },
 "nbformat": 4,
 "nbformat_minor": 5
}
